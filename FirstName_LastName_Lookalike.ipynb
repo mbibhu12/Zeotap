{
 "cells": [
  {
   "cell_type": "code",
   "execution_count": null,
   "metadata": {},
   "outputs": [],
   "source": [
    "import pandas as pd\n",
    "from sklearn.metrics.pairwise import cosine_similarity\n",
    "import numpy as np\n",
    "\n",
    "# Load datasets\n",
    "customers_df = pd.read_csv(r\"D:\\z\\Zeotap\\Customers - Customers.csv\")\n",
    "products_df = pd.read_csv(r\"D:\\z\\Zeotap\\Products - Products.csv\")\n",
    "transactions_df = pd.read_csv(r\"D:\\z\\Zeotap\\Transactions - Transactions.csv\")\n"
   ]
  },
  {
   "cell_type": "code",
   "execution_count": null,
   "metadata": {},
   "outputs": [],
   "source": [
    "# Merge datasets\n",
    "transactions_products = pd.merge(transactions_df, products_df, on=\"ProductID\", how=\"left\")\n",
    "full_data = pd.merge(transactions_products, customers_df, on=\"CustomerID\", how=\"left\")\n",
    "\n",
    "# Convert dates to datetime\n",
    "full_data[\"TransactionDate\"] = pd.to_datetime(full_data[\"TransactionDate\"])\n",
    "full_data[\"SignupDate\"] = pd.to_datetime(full_data[\"SignupDate\"])"
   ]
  },
  {
   "cell_type": "code",
   "execution_count": null,
   "metadata": {},
   "outputs": [],
   "source": [
    "# Create customer profiles\n",
    "customer_profiles = full_data.groupby(\"CustomerID\").agg(\n",
    "    total_spend=(\"TotalValue\", \"sum\"),\n",
    "    transaction_count=(\"TransactionID\", \"count\"),\n",
    "    avg_spend_per_transaction=(\"TotalValue\", \"mean\"),\n",
    "    unique_products=(\"ProductID\", \"nunique\"),\n",
    "    signup_date=(\"SignupDate\", \"first\"),\n",
    "    most_common_category=(\"Category\", lambda x: x.mode()[0]),\n",
    "    region=(\"Region\", \"first\")\n",
    ").reset_index()"
   ]
  },
  {
   "cell_type": "code",
   "execution_count": null,
   "metadata": {},
   "outputs": [],
   "source": [
    "# One-hot encode categorical features\n",
    "customer_profiles = pd.get_dummies(customer_profiles, columns=[\"most_common_category\", \"region\"])"
   ]
  },
  {
   "cell_type": "code",
   "execution_count": null,
   "metadata": {},
   "outputs": [],
   "source": [
    "# Prepare data for similarity computation\n",
    "customer_ids = customer_profiles[\"CustomerID\"]\n",
    "profile_features = customer_profiles.drop(columns=[\"CustomerID\", \"signup_date\"])\n",
    "\n",
    "# Compute cosine similarity\n",
    "similarity_matrix = cosine_similarity(profile_features)"
   ]
  },
  {
   "cell_type": "code",
   "execution_count": null,
   "metadata": {},
   "outputs": [],
   "source": [
    "# Create lookalike map for the first 20 customers\n",
    "lookalike_map = {}\n",
    "for idx in range(20):  # For customers C0001 to C0020\n",
    "    customer_id = customer_ids.iloc[idx]\n",
    "    similarity_scores = similarity_matrix[idx]\n",
    "    similar_indices = np.argsort(similarity_scores)[::-1][1:4]  # Top 3 (excluding itself)\n",
    "    similar_customers = [\n",
    "        (customer_ids.iloc[sim_idx], similarity_scores[sim_idx])\n",
    "        for sim_idx in similar_indices\n",
    "    ]\n",
    "    lookalike_map[customer_id] = similar_customers"
   ]
  },
  {
   "cell_type": "code",
   "execution_count": 2,
   "metadata": {},
   "outputs": [
    {
     "name": "stdout",
     "output_type": "stream",
     "text": [
      "FirstName_LastName_Lookalike.csv has been generated with the top 3 lookalikes for the first 20 customers.\n"
     ]
    }
   ],
   "source": [
    "# Convert to DataFrame and save as CSV\n",
    "lookalike_df = pd.DataFrame([\n",
    "    {\"cust_id\": cust_id, \"lookalikes\": str(similar_customers)}\n",
    "    for cust_id, similar_customers in lookalike_map.items()\n",
    "])\n",
    "lookalike_df.to_csv(\"FirstName_LastName_Lookalike.csv\", index=False)\n",
    "\n",
    "print(\"FirstName_LastName_Lookalike.csv has been generated with the top 3 lookalikes for the first 20 customers.\")\n"
   ]
  },
  {
   "cell_type": "code",
   "execution_count": null,
   "metadata": {},
   "outputs": [],
   "source": []
  }
 ],
 "metadata": {
  "kernelspec": {
   "display_name": "base",
   "language": "python",
   "name": "python3"
  },
  "language_info": {
   "codemirror_mode": {
    "name": "ipython",
    "version": 3
   },
   "file_extension": ".py",
   "mimetype": "text/x-python",
   "name": "python",
   "nbconvert_exporter": "python",
   "pygments_lexer": "ipython3",
   "version": "3.11.7"
  }
 },
 "nbformat": 4,
 "nbformat_minor": 2
}
